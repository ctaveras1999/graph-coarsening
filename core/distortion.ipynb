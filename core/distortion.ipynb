{
 "cells": [
  {
   "cell_type": "code",
   "execution_count": 1,
   "id": "735df7f8",
   "metadata": {},
   "outputs": [],
   "source": [
    "import sys\n",
    "sys.path.insert(1, 'core')\n",
    "sys.path.insert(1, 'FraMe-ICML23')\n",
    "sys.path.insert(1, '../')\n",
    "\n",
    "import torch\n",
    "from DataTools import MeasureNetwork, discrepancy, gw_coarsening\n",
    "from DataGenerators import sbm_pq\n",
    "import networkx as nx\n",
    "import numpy as np"
   ]
  },
  {
   "cell_type": "code",
   "execution_count": 2,
   "id": "49cbf5cc",
   "metadata": {},
   "outputs": [],
   "source": [
    "# n = 9\n",
    "# x1 = torch.zeros(n)\n",
    "# x2 = torch.ones(n)\n",
    "# mu = torch.ones(n)/n"
   ]
  },
  {
   "cell_type": "code",
   "execution_count": 3,
   "id": "863fd239",
   "metadata": {},
   "outputs": [],
   "source": [
    "# # M = MeasureNetwork(nx.complete_multipartite_graph(3, 2, 3))\n",
    "# # M = MeasureNetwork(nx.gnp_random_graph(n, 0.3))\n",
    "M = MeasureNetwork(sbm_pq(50, 5, 1, 0))\n",
    "# M.plot()"
   ]
  },
  {
   "cell_type": "code",
   "execution_count": 7,
   "id": "746b4053",
   "metadata": {},
   "outputs": [
    {
     "name": "stdout",
     "output_type": "stream",
     "text": [
      "<DataTools.MeasureNetwork object at 0x723924109710>\n"
     ]
    }
   ],
   "source": [
    "Mc = M.coarsen(5, 4)"
   ]
  },
  {
   "cell_type": "code",
   "execution_count": 10,
   "id": "b81e349a",
   "metadata": {},
   "outputs": [
    {
     "data": {
      "text/plain": [
       "array([[0.2],\n",
       "       [0.2],\n",
       "       [0.2],\n",
       "       [0.2],\n",
       "       [0.2]])"
      ]
     },
     "execution_count": 10,
     "metadata": {},
     "output_type": "execute_result"
    }
   ],
   "source": [
    "Mc.prob "
   ]
  },
  {
   "cell_type": "code",
   "execution_count": 11,
   "id": "9b369279",
   "metadata": {},
   "outputs": [
    {
     "data": {
      "image/png": "[encoded data removed]",
      "text/plain": [
       "<Figure size 640x480 with 1 Axes>"
      ]
     },
     "metadata": {},
     "output_type": "display_data"
    }
   ],
   "source": [
    "Mc.plot()"
   ]
  },
  {
   "cell_type": "code",
   "execution_count": null,
   "id": "86055b3b",
   "metadata": {},
   "outputs": [],
   "source": []
  },
  {
   "cell_type": "code",
   "execution_count": null,
   "id": "9f546492",
   "metadata": {},
   "outputs": [],
   "source": []
  }
 ],
 "metadata": {
  "kernelspec": {
   "display_name": "graph_series",
   "language": "python",
   "name": "python3"
  },
  "language_info": {
   "codemirror_mode": {
    "name": "ipython",
    "version": 3
   },
   "file_extension": ".py",
   "mimetype": "text/x-python",
   "name": "python",
   "nbconvert_exporter": "python",
   "pygments_lexer": "ipython3",
   "version": "3.11.13"
  }
 },
 "nbformat": 4,
 "nbformat_minor": 5
}
